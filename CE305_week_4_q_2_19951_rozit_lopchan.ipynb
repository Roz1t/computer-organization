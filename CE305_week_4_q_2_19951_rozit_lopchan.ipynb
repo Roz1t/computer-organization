{
  "nbformat": 4,
  "nbformat_minor": 0,
  "metadata": {
    "colab": {
      "provenance": [],
      "authorship_tag": "ABX9TyMvD3qKfvrAoF+R83KE9nTJ",
      "include_colab_link": true
    },
    "kernelspec": {
      "name": "python3",
      "display_name": "Python 3"
    },
    "language_info": {
      "name": "python"
    }
  },
  "cells": [
    {
      "cell_type": "markdown",
      "metadata": {
        "id": "view-in-github",
        "colab_type": "text"
      },
      "source": [
        "<a href=\"https://colab.research.google.com/github/Roz1t/computer-organization/blob/main/CE305_week_4_q_2_19951_rozit_lopchan.ipynb\" target=\"_parent\"><img src=\"https://colab.research.google.com/assets/colab-badge.svg\" alt=\"Open In Colab\"/></a>"
      ]
    },
    {
      "cell_type": "code",
      "source": [
        "def determine_parity_positions(encoded_data_length):\n",
        "\n",
        "    parity_positions = []\n",
        "    for i in range(1, encoded_data_length + 1):\n",
        "        if (i & (i - 1)) == 0:\n",
        "            parity_positions.append(i)\n",
        "\n",
        "    return parity_positions\n",
        "\n",
        "def hamming_encode(data):\n",
        "    data_length = len(data)\n",
        "    r = 0\n",
        "    while 2 ** r < data_length + r + 1:\n",
        "        r += 1\n",
        "\n",
        "    encoded_data_length = data_length + r\n",
        "\n",
        "    encoded_data = [0] * encoded_data_length\n",
        "\n",
        "    j = 0\n",
        "    for i in range(1, encoded_data_length + 1):\n",
        "        if i not in determine_parity_positions(encoded_data_length):\n",
        "            encoded_data[i - 1] = int(data[j])\n",
        "            j += 1\n",
        "\n",
        "    for parity_position in determine_parity_positions(encoded_data_length):\n",
        "        parity_value = 0\n",
        "        for i in range(parity_position, encoded_data_length + 1):\n",
        "            if (i // parity_position) % 2 == 1:\n",
        "                parity_value ^= encoded_data[i - 1]\n",
        "        encoded_data[parity_position - 1] = parity_value\n",
        "\n",
        "    return encoded_data\n",
        "\n",
        "def hamming_decode(encoded_data, num_parity_bits):\n",
        "    encoded_data_length = len(encoded_data)\n",
        "\n",
        "    parity_positions = [2**i for i in range(num_parity_bits)]\n",
        "\n",
        "    r = len(parity_positions)\n",
        "    decoded_data_length = encoded_data_length - r\n",
        "\n",
        "    syndrome = [0] * r\n",
        "    decoded_data = [0] * decoded_data_length\n",
        "\n",
        "    for i, parity_position in enumerate(parity_positions):\n",
        "        parity_value = 0\n",
        "        for j in range(parity_position, encoded_data_length + 1):\n",
        "            if (j // parity_position) % 2 == 1:\n",
        "                parity_value ^= encoded_data[j - 1]\n",
        "        syndrome[i] = parity_value\n",
        "\n",
        "    error_position = 0\n",
        "    for i, position in enumerate(parity_positions):\n",
        "        error_position += position * syndrome[i]\n",
        "\n",
        "    if error_position > 0:\n",
        "        print(f\"Error detected at position {error_position}\")\n",
        "        encoded_data[error_position - 1] ^= 1\n",
        "\n",
        "    j = 0\n",
        "    for i in range(1, encoded_data_length + 1):\n",
        "        if i not in parity_positions:\n",
        "            decoded_data[j] = encoded_data[i - 1]\n",
        "            j += 1\n",
        "\n",
        "    return decoded_data\n",
        "\n",
        "original_data = input(\"Enter the binary data to be encoded: \")\n",
        "if not all(bit in \"01\" for bit in original_data):\n",
        "    print(\"Please enter a valid binary data.\")\n",
        "else:\n",
        "    encoded_data = hamming_encode(original_data)\n",
        "    print(\"Encoded Data:\", ''.join(map(str, encoded_data)))\n",
        "\n",
        "received_data = input(\"Enter the received data for decoding: \")\n",
        "if not all(bit in \"01\" for bit in received_data):\n",
        "    print(\"Please enter a valid binary data.\")\n",
        "else:\n",
        "    num_parity_bits = int(input(\"Enter the number of parity bits: \"))\n",
        "    decoded_data = hamming_decode(list(map(int, received_data)), num_parity_bits)\n",
        "    print(\"Decoded Data:\", ''.join(map(str, decoded_data)))\n"
      ],
      "metadata": {
        "colab": {
          "base_uri": "https://localhost:8080/"
        },
        "id": "-brcMDBWeQB4",
        "outputId": "65fae06f-463b-4c87-acea-bd8d0236ec3f"
      },
      "execution_count": 23,
      "outputs": [
        {
          "output_type": "stream",
          "name": "stdout",
          "text": [
            "Enter the binary data to be encoded: 1001011\n",
            "Encoded Data: 10110010011\n",
            "Enter the received data for decoding: 10110000011\n",
            "Enter the number of parity bits: 4\n",
            "Error detected at position 7\n",
            "Decoded Data: 1001011\n"
          ]
        }
      ]
    }
  ]
}