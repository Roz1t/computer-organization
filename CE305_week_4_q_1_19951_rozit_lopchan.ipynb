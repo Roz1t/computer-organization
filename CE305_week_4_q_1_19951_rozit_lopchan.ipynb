{
  "nbformat": 4,
  "nbformat_minor": 0,
  "metadata": {
    "colab": {
      "provenance": [],
      "authorship_tag": "ABX9TyN4r+yXrKQFQ+MXfRRZN0s8",
      "include_colab_link": true
    },
    "kernelspec": {
      "name": "python3",
      "display_name": "Python 3"
    },
    "language_info": {
      "name": "python"
    }
  },
  "cells": [
    {
      "cell_type": "markdown",
      "metadata": {
        "id": "view-in-github",
        "colab_type": "text"
      },
      "source": [
        "<a href=\"https://colab.research.google.com/github/Roz1t/computer-organization/blob/main/CE305_week_4_q_1_19951_rozit_lopchan.ipynb\" target=\"_parent\"><img src=\"https://colab.research.google.com/assets/colab-badge.svg\" alt=\"Open In Colab\"/></a>"
      ]
    },
    {
      "cell_type": "code",
      "source": [
        "def crc_encode(data, polynomial):\n",
        "    data = list(data)\n",
        "    polynomial = list(polynomial)\n",
        "    data.extend(['0'] * (len(polynomial) - 1))\n",
        "\n",
        "    for i in range(len(data) - len(polynomial) + 1):\n",
        "        if data[i] == '1':\n",
        "            for j in range(len(polynomial)):\n",
        "                data[i + j] = str(int(data[i + j]) ^ int(polynomial[j]))\n",
        "\n",
        "    return ''.join(data[-5:])\n",
        "\n",
        "def crc_decode(encoded_message, polynomial):\n",
        "    encoded_message = list(encoded_message)\n",
        "\n",
        "    for i in range(len(encoded_message) - len(polynomial) + 1):\n",
        "        if encoded_message[i] == '1':\n",
        "            for j in range(len(polynomial)):\n",
        "                encoded_message[i + j] = str(int(encoded_message[i + j]) ^ int(polynomial[j]))\n",
        "\n",
        "    return all(bit == '0' for bit in encoded_message)\n",
        "\n",
        "data = input(\"Enter the original 4-bit binary data: \")\n",
        "polynomial = '100101'\n",
        "\n",
        "encoded_message = data + crc_encode(data, polynomial)\n",
        "print(\"Encoded Message:\", encoded_message)\n",
        "\n",
        "received_message = input(\"Enter the received message with CRC bits: \")\n",
        "\n",
        "if crc_decode(received_message, polynomial):\n",
        "    print(\"No errors detected. Decoded Message:\", received_message[:-len(polynomial) + 1])\n",
        "else:\n",
        "    print(\"Error detected in the received message.\")\n"
      ],
      "metadata": {
        "id": "iNdHJqbpEb_d"
      },
      "execution_count": null,
      "outputs": []
    }
  ]
}