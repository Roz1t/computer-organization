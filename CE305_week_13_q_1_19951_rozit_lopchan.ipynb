{
  "nbformat": 4,
  "nbformat_minor": 0,
  "metadata": {
    "colab": {
      "provenance": [],
      "authorship_tag": "ABX9TyN1J3GzargYSiNfTZnXJOdZ",
      "include_colab_link": true
    },
    "kernelspec": {
      "name": "python3",
      "display_name": "Python 3"
    },
    "language_info": {
      "name": "python"
    }
  },
  "cells": [
    {
      "cell_type": "markdown",
      "metadata": {
        "id": "view-in-github",
        "colab_type": "text"
      },
      "source": [
        "<a href=\"https://colab.research.google.com/github/Roz1t/computer-organization/blob/main/CE305_week_13_q_1_19951_rozit_lopchan.ipynb\" target=\"_parent\"><img src=\"https://colab.research.google.com/assets/colab-badge.svg\" alt=\"Open In Colab\"/></a>"
      ]
    },
    {
      "cell_type": "code",
      "source": [
        "#QN1\n",
        "init_mem = {}\n",
        "a = {800: 123}\n",
        "b = {900: 1000}\n",
        "\n",
        "def store(storage, elm):\n",
        "    storage.update(elm)\n",
        "    return storage\n",
        "\n",
        "mem = store(init_mem, a)\n",
        "print(f\"Memory: {mem}\")\n",
        "\n",
        "mem = store(mem, b)\n",
        "print(f\"Memory: {mem}\")\n",
        "\n",
        "c = {800: 900}\n",
        "mem = store(mem, c)\n",
        "print(f\"Memory: {mem}\")\n",
        "\n",
        "d = {1500: 700}\n",
        "mem = store(mem, d)\n",
        "print(f\"Memory: {mem}\")\n",
        "\n",
        "def imm_load_ac(val):\n",
        "    ac = val\n",
        "    print(f\"Accumulator: {ac}\")\n",
        "    return ac\n",
        "\n",
        "ac = imm_load_ac(800)\n",
        "\n",
        "def dir_load_ac(storage, val):\n",
        "    ac = storage[val]\n",
        "    print(f\"Accumulator: {ac}\")\n",
        "    return ac\n",
        "\n",
        "ac = dir_load_ac(mem, 800)\n",
        "\n",
        "def indir_load_ac(storage, val):\n",
        "    ac = storage[storage[val]]\n",
        "    print(f\"Accumulator: {ac}\")\n",
        "    return ac\n",
        "\n",
        "\n",
        "ac = indir_load_ac(mem, 800)\n",
        "\n",
        "def idx_load_ac(storage, idx, val):\n",
        "    ac = storage[idx + val]\n",
        "    print(f\"Accumulator: {ac}\")\n",
        "    return ac\n",
        "\n",
        "idxreg = 700\n",
        "ac = idx_load_ac(mem, idxreg, 800)\n",
        "\n",
        "print(f\"Final Accumulator Value: {ac}\")\n"
      ],
      "metadata": {
        "colab": {
          "base_uri": "https://localhost:8080/"
        },
        "id": "PjLef7rnwASb",
        "outputId": "11477969-22ba-4849-c504-229851a0cf18"
      },
      "execution_count": 38,
      "outputs": [
        {
          "output_type": "stream",
          "name": "stdout",
          "text": [
            "Memory: {800: 123}\n",
            "Memory: {800: 123, 900: 1000}\n",
            "Memory: {800: 900, 900: 1000}\n",
            "Memory: {800: 900, 900: 1000, 1500: 700}\n",
            "Accumulator: 800\n",
            "Accumulator: 900\n",
            "Accumulator: 1000\n",
            "Accumulator: 700\n",
            "Final Accumulator Value: 700\n"
          ]
        }
      ]
    }
  ]
}