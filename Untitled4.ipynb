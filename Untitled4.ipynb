{
  "nbformat": 4,
  "nbformat_minor": 0,
  "metadata": {
    "colab": {
      "provenance": [],
      "authorship_tag": "ABX9TyOqo81aqjw/fxrk6dHy8Sqb",
      "include_colab_link": true
    },
    "kernelspec": {
      "name": "python3",
      "display_name": "Python 3"
    },
    "language_info": {
      "name": "python"
    }
  },
  "cells": [
    {
      "cell_type": "markdown",
      "metadata": {
        "id": "view-in-github",
        "colab_type": "text"
      },
      "source": [
        "<a href=\"https://colab.research.google.com/github/Roz1t/computer-organization/blob/main/Untitled4.ipynb\" target=\"_parent\"><img src=\"https://colab.research.google.com/assets/colab-badge.svg\" alt=\"Open In Colab\"/></a>"
      ]
    },
    {
      "cell_type": "code",
      "execution_count": null,
      "metadata": {
        "id": "d0GQjgjoE8aG"
      },
      "outputs": [],
      "source": [
        "Loop, Load str\n",
        "      ADD it\n",
        "      STORE in\n",
        "      LOADI in\n",
        "      Skipcond 400\n",
        "      Jump do\n",
        "      halt\n",
        "\n",
        "do, Output\n",
        "    Load it\n",
        "    Add one\n",
        "    Store it\n",
        "    Jump Loop\n",
        "\n",
        "one, DEC 1\n",
        "it, DEC 0\n",
        "in, HEX 0\n",
        "str,HEX 10\n",
        "string, HEX 48\n",
        "        HEX 65\n",
        "        HEX 6C\n",
        "        HEX 6C\n",
        "        HEX 6F"
      ]
    }
  ]
}