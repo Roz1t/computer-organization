{
  "nbformat": 4,
  "nbformat_minor": 0,
  "metadata": {
    "colab": {
      "provenance": [],
      "authorship_tag": "ABX9TyMqm8jn2v/MTlDv5U6RDGM4",
      "include_colab_link": true
    },
    "kernelspec": {
      "name": "python3",
      "display_name": "Python 3"
    },
    "language_info": {
      "name": "python"
    }
  },
  "cells": [
    {
      "cell_type": "markdown",
      "metadata": {
        "id": "view-in-github",
        "colab_type": "text"
      },
      "source": [
        "<a href=\"https://colab.research.google.com/github/Roz1t/computer-organization/blob/main/CE305_week_13_q_2_19951_rozit_lopchan.ipynb\" target=\"_parent\"><img src=\"https://colab.research.google.com/assets/colab-badge.svg\" alt=\"Open In Colab\"/></a>"
      ]
    },
    {
      "cell_type": "code",
      "source": [
        "def store(storage, elm):\n",
        "    for addr, values in elm.items():\n",
        "        block = addr[7:11]\n",
        "        storage[block] = values\n",
        "    return storage\n",
        "\n",
        "def dir_map_cache(cache, adr, storage):\n",
        "    tag = adr[:7]\n",
        "    block = adr[7:11]\n",
        "    word = adr[11:]\n",
        "\n",
        "    cache_line = cache[block]\n",
        "    if cache_line[2] == 1 and cache_line[0] == tag:\n",
        "        pass\n",
        "    else:\n",
        "        block_data = storage[block]\n",
        "        cache_line[0] = tag\n",
        "        cache_line[1] = block_data\n",
        "        cache_line[2] = 1\n",
        "\n",
        "    return cache\n",
        "\n",
        "init_mem = {}\n",
        "\n",
        "a = {\"00000110101000\": [0, 1, 2, 3, 4, 5, 6, 7]}\n",
        "mem = store(init_mem, a)\n",
        "\n",
        "b = {\"00001110101000\": [10, 11, 12, 13, 14, 15, 16, 17]}\n",
        "mem = store(mem, b)\n",
        "\n",
        "cache = {\n",
        "    \"0000\": [\"0000000\", [0, 0, 0, 0, 0, 0, 0, 0], 0],\n",
        "    \"0001\": [\"0000000\", [0, 0, 0, 0, 0, 0, 0, 0], 0],\n",
        "    \"0010\": [\"0000000\", [0, 0, 0, 0, 0, 0, 0, 0], 0],\n",
        "    \"0011\": [\"0000000\", [0, 0, 0, 0, 0, 0, 0, 0], 0],\n",
        "    \"0100\": [\"0000000\", [0, 0, 0, 0, 0, 0, 0, 0], 0],\n",
        "    \"0101\": [\"0000000\", [0, 0, 0, 0, 0, 0, 0, 0], 0],\n",
        "    \"0110\": [\"0000000\", [0, 0, 0, 0, 0, 0, 0, 0], 0],\n",
        "    \"0111\": [\"0000000\", [0, 0, 0, 0, 0, 0, 0, 0], 0],\n",
        "    \"1000\": [\"0000000\", [0, 0, 0, 0, 0, 0, 0, 0], 0],\n",
        "    \"1001\": [\"0000000\", [0, 0, 0, 0, 0, 0, 0, 0], 0],\n",
        "    \"1010\": [\"0000000\", [0, 0, 0, 0, 0, 0, 0, 0], 0],\n",
        "    \"1011\": [\"0000000\", [0, 0, 0, 0, 0, 0, 0, 0], 0],\n",
        "    \"1100\": [\"0000000\", [0, 0, 0, 0, 0, 0, 0, 0], 0],\n",
        "    \"1101\": [\"0000000\", [0, 0, 0, 0, 0, 0, 0, 0], 0],\n",
        "    \"1110\": [\"0000000\", [0, 0, 0, 0, 0, 0, 0, 0], 0],\n",
        "    \"1111\": [\"0000000\", [0, 0, 0, 0, 0, 0, 0, 0], 0],\n",
        "}\n",
        "\n",
        "adr1 = \"00000110101010\"\n",
        "cache = dir_map_cache(cache, adr1, mem)\n",
        "\n",
        "adr2 = \"00001110101010\"\n",
        "cache = dir_map_cache(cache, adr2, mem)\n",
        "\n",
        "c = {\"00001110111000\": [20, 21, 22, 23, 24, 25, 26, 27]}\n",
        "mem = store(mem, c)\n",
        "\n",
        "adr3 = \"00001110111111\"\n",
        "cache = dir_map_cache(cache, adr3, mem)\n",
        "\n",
        "def check_cache(cache, adr):\n",
        "    block = adr[7:11]\n",
        "    cache_line = cache[block]\n",
        "    tag = adr[:7]\n",
        "\n",
        "    if cache_line[2] == 1 and cache_line[0] == tag:\n",
        "        print(\"Hit\")\n",
        "    else:\n",
        "        print(\"Miss\")\n",
        "\n",
        "check_cache(cache, adr1)\n",
        "check_cache(cache, adr2)\n",
        "check_cache(cache, adr3)\n"
      ],
      "metadata": {
        "colab": {
          "base_uri": "https://localhost:8080/"
        },
        "id": "MIPN1NM8NmLm",
        "outputId": "a711db1b-5e9a-40f9-a9b8-b39fe3ae0c86"
      },
      "execution_count": 5,
      "outputs": [
        {
          "output_type": "stream",
          "name": "stdout",
          "text": [
            "Miss\n",
            "Hit\n",
            "Hit\n"
          ]
        }
      ]
    }
  ]
}