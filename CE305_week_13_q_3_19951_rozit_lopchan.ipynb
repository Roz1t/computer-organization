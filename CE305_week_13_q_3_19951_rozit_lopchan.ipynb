{
  "nbformat": 4,
  "nbformat_minor": 0,
  "metadata": {
    "colab": {
      "provenance": [],
      "authorship_tag": "ABX9TyN/WyBy1LFzDDC8Hxg0YRM9",
      "include_colab_link": true
    },
    "kernelspec": {
      "name": "python3",
      "display_name": "Python 3"
    },
    "language_info": {
      "name": "python"
    }
  },
  "cells": [
    {
      "cell_type": "markdown",
      "metadata": {
        "id": "view-in-github",
        "colab_type": "text"
      },
      "source": [
        "<a href=\"https://colab.research.google.com/github/Roz1t/computer-organization/blob/main/CE305_week_13_q_3_19951_rozit_lopchan.ipynb\" target=\"_parent\"><img src=\"https://colab.research.google.com/assets/colab-badge.svg\" alt=\"Open In Colab\"/></a>"
      ]
    },
    {
      "cell_type": "code",
      "source": [
        "import datetime\n",
        "def update_memory(memory_store, new_block):\n",
        "    memory_store.update(new_block)\n",
        "    return memory_store\n",
        "\n",
        "memory_block_a = {\"00000110101000\": [0, 1, 2, 3, 4, 5, 6, 7]}\n",
        "memory_block_b = {\"00001110101000\": [10, 11, 12, 13, 14, 15, 16, 17]}\n",
        "memory_block_c = {\"00011110101000\": [20, 21, 22, 23, 24, 25, 26, 27]}\n",
        "memory_block_d = {\"00111110101000\": [30, 31, 32, 33, 34, 35, 36, 37]}\n",
        "memory_block_e = {\"01111110101000\": [40, 41, 42, 43, 44, 45, 46, 47]}\n",
        "\n",
        "def map_to_cache_assoc(cache_system, address, main_memory):\n",
        "    cache_tag = address[:11]\n",
        "    memory_block = main_memory.get(address[:11] + '000')\n",
        "\n",
        "    if memory_block:\n",
        "\n",
        "        available_line = next((key for key, value in cache_system.items() if value[2] == 0), None)\n",
        "        if available_line is None:\n",
        "\n",
        "            available_line = list(cache_system.keys())[0]\n",
        "\n",
        "        cache_system[available_line] = [cache_tag, memory_block, 1]\n",
        "\n",
        "    return cache_system\n",
        "\n",
        "\n",
        "main_memory_store = {}\n",
        "assoc_cache = {\n",
        "    \"line1\": [\"00000000000\", [0]*8, 0],\n",
        "    \"line2\": [\"00000000000\", [0]*8, 0],\n",
        "    \"line3\": [\"00000000000\", [0]*8, 0],\n",
        "    \"line4\": [\"00000000000\", [0]*8, 0]\n",
        "}\n",
        "\n",
        "\n",
        "main_memory_store = update_memory(main_memory_store, memory_block_a)\n",
        "main_memory_store = update_memory(main_memory_store, memory_block_b)\n",
        "main_memory_store = update_memory(main_memory_store, memory_block_c)\n",
        "main_memory_store = update_memory(main_memory_store, memory_block_d)\n",
        "main_memory_store = update_memory(main_memory_store, memory_block_e)\n",
        "\n",
        "\n",
        "mem_address_1 = \"00000110101010\"\n",
        "mem_address_2 = \"00001110101010\"\n",
        "mem_address_3 = \"00011110101111\"\n",
        "mem_address_4 = \"00111110101101\"\n",
        "mem_address_5 = \"01111110101110\"\n",
        "\n",
        "assoc_cache = map_to_cache_assoc(assoc_cache, mem_address_1, main_memory_store)\n",
        "assoc_cache = map_to_cache_assoc(assoc_cache, mem_address_2, main_memory_store)\n",
        "assoc_cache = map_to_cache_assoc(assoc_cache, mem_address_3, main_memory_store)\n",
        "assoc_cache = map_to_cache_assoc(assoc_cache, mem_address_4, main_memory_store)\n",
        "assoc_cache = map_to_cache_assoc(assoc_cache, mem_address_5, main_memory_store)\n",
        "\n",
        "print(assoc_cache)"
      ],
      "metadata": {
        "colab": {
          "base_uri": "https://localhost:8080/"
        },
        "id": "MIPN1NM8NmLm",
        "outputId": "b9b4707c-9cf9-4739-d598-f612836a1377"
      },
      "execution_count": 2,
      "outputs": [
        {
          "output_type": "stream",
          "name": "stdout",
          "text": [
            "{'line1': ['01111110101', [40, 41, 42, 43, 44, 45, 46, 47], 1], 'line2': ['00001110101', [10, 11, 12, 13, 14, 15, 16, 17], 1], 'line3': ['00011110101', [20, 21, 22, 23, 24, 25, 26, 27], 1], 'line4': ['00111110101', [30, 31, 32, 33, 34, 35, 36, 37], 1]}\n"
          ]
        }
      ]
    }
  ]
}