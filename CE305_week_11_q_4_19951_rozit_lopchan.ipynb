{
  "nbformat": 4,
  "nbformat_minor": 0,
  "metadata": {
    "colab": {
      "provenance": [],
      "authorship_tag": "ABX9TyMGD1uxKX9/dSNu/DaeA54P",
      "include_colab_link": true
    },
    "kernelspec": {
      "name": "python3",
      "display_name": "Python 3"
    },
    "language_info": {
      "name": "python"
    }
  },
  "cells": [
    {
      "cell_type": "markdown",
      "metadata": {
        "id": "view-in-github",
        "colab_type": "text"
      },
      "source": [
        "<a href=\"https://colab.research.google.com/github/Roz1t/computer-organization/blob/main/CE305_week_11_q_4_19951_rozit_lopchan.ipynb\" target=\"_parent\"><img src=\"https://colab.research.google.com/assets/colab-badge.svg\" alt=\"Open In Colab\"/></a>"
      ]
    },
    {
      "cell_type": "code",
      "execution_count": null,
      "metadata": {
        "id": "d0GQjgjoE8aG"
      },
      "outputs": [],
      "source": [
        "ORG 100\n",
        "\n",
        "Input\n",
        "store m\n",
        "Input\n",
        "Store n\n",
        "Load n\n",
        "Skipcond 800\n",
        "Jump nive\n",
        "Load n\n",
        "Skipcond 400\n",
        "Jump Loop\n",
        "Jump Halt\n",
        "\n",
        "nive, Load n\n",
        "\t  Subt n\n",
        "      subt n\n",
        "      Store n\n",
        "      Load ne\n",
        "      Add one\n",
        "      Store ne\n",
        "      Jump Loop\n",
        "\n",
        "Loop, Load sum\n",
        "\t  Add m\n",
        "      Store sum\n",
        "      Load n\n",
        "      Subt one\n",
        "      Store n\n",
        "      Skipcond 400\n",
        "      Jump Loop\n",
        "\n",
        "\n",
        "Load ne\n",
        "Skipcond 800\n",
        "Jump Halt\n",
        "Load sum\n",
        "Subt sum\n",
        "Subt sum\n",
        "Store sum\n",
        "\n",
        "Halt, Load sum\n",
        "\t  Output\n",
        "\t  Halt\n",
        "\n",
        "\n",
        "m, Dec 0\n",
        "n, DEC 0\n",
        "one, DEC 1\n",
        "ne, DEC 0\n",
        "sum, DEC 0\n",
        "END 100"
      ]
    }
  ]
}