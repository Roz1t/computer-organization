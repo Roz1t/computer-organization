{
  "nbformat": 4,
  "nbformat_minor": 0,
  "metadata": {
    "colab": {
      "provenance": [],
      "authorship_tag": "ABX9TyMK1udOa4TG+ev5gT5ZbCaj",
      "include_colab_link": true
    },
    "kernelspec": {
      "name": "python3",
      "display_name": "Python 3"
    },
    "language_info": {
      "name": "python"
    }
  },
  "cells": [
    {
      "cell_type": "markdown",
      "metadata": {
        "id": "view-in-github",
        "colab_type": "text"
      },
      "source": [
        "<a href=\"https://colab.research.google.com/github/Roz1t/computer-organization/blob/main/CE305_week_2_q_1_19951_rozit_lopchan.ipynb\" target=\"_parent\"><img src=\"https://colab.research.google.com/assets/colab-badge.svg\" alt=\"Open In Colab\"/></a>"
      ]
    },
    {
      "cell_type": "code",
      "execution_count": null,
      "metadata": {
        "colab": {
          "base_uri": "https://localhost:8080/"
        },
        "id": "W46-Cy8GyMKt",
        "outputId": "035afa6f-511d-4c14-c262-d1f10cb3e62f"
      },
      "outputs": [
        {
          "output_type": "stream",
          "name": "stdout",
          "text": [
            "Enter the number: 145\n",
            "Enter the base of the input number: 10\n",
            "Enter the base you want to convert to: 2\n",
            "Result: 10010001\n"
          ]
        }
      ],
      "source": [
        "def is_valid_number(number, base):\n",
        "    try:\n",
        "        int(number, base)\n",
        "        return True\n",
        "    except ValueError:\n",
        "        return False\n",
        "\n",
        "def convert_base(number, old_base, new_base):\n",
        "    if is_valid_number(number, old_base):\n",
        "        decimal_number = int(number, old_base)\n",
        "        if to_base == 10:\n",
        "            return str(decimal_number)\n",
        "        else:\n",
        "            converted_number = \"\"\n",
        "            while decimal_number > 0:\n",
        "                remainder = decimal_number % new_base\n",
        "                converted_number = str(remainder) + converted_number\n",
        "                decimal_number //= new_base\n",
        "            return converted_number\n",
        "    else:\n",
        "        return \"Invalid input number for the given base.\"\n",
        "\n",
        "if __name__ == \"__main__\":\n",
        "    num = input(\"Enter the number: \")\n",
        "    base = int(input(\"Enter the base of the input number: \"))\n",
        "    new_base = int(input(\"Enter the base you want to convert to: \"))\n",
        "\n",
        "    result = convert_base(num, base, new_base)\n",
        "    print(f\"Result: {result}\")\n"
      ]
    }
  ]
}