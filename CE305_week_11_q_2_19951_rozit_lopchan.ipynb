{
  "nbformat": 4,
  "nbformat_minor": 0,
  "metadata": {
    "colab": {
      "provenance": [],
      "authorship_tag": "ABX9TyO00UtU3xjwQSdIzTy2ftWR",
      "include_colab_link": true
    },
    "kernelspec": {
      "name": "python3",
      "display_name": "Python 3"
    },
    "language_info": {
      "name": "python"
    }
  },
  "cells": [
    {
      "cell_type": "markdown",
      "metadata": {
        "id": "view-in-github",
        "colab_type": "text"
      },
      "source": [
        "<a href=\"https://colab.research.google.com/github/Roz1t/computer-organization/blob/main/CE305_week_11_q_2_19951_rozit_lopchan.ipynb\" target=\"_parent\"><img src=\"https://colab.research.google.com/assets/colab-badge.svg\" alt=\"Open In Colab\"/></a>"
      ]
    },
    {
      "cell_type": "code",
      "execution_count": null,
      "metadata": {
        "id": "d0GQjgjoE8aG"
      },
      "outputs": [],
      "source": [
        "ORG 100\n",
        "Load x\n",
        "store x\n",
        "Loop, Load x\n",
        "      Subt f\n",
        "      Skipcond 000\n",
        "      Jump ENDLOOP\n",
        "      Load x\n",
        "      Subt t\n",
        "      Skipcond 400\n",
        "      Jump Loop1\n",
        "      Jump ENDLOOP\n",
        "\n",
        "Loop1, Load x\n",
        "Output\n",
        "Add one\n",
        "store x\n",
        "Jump Loop\n",
        "\n",
        "ENDLOOP, Halt\n",
        "\n",
        "x, DEC 0\n",
        "t, DEC 3\n",
        "one, DEC 1\n",
        "f, DEC 5\n",
        "END 100"
      ]
    }
  ]
}