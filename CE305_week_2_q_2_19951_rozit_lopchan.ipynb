{
  "nbformat": 4,
  "nbformat_minor": 0,
  "metadata": {
    "colab": {
      "provenance": [],
      "authorship_tag": "ABX9TyO6UjZl/0wYy2buAmHiMi3K",
      "include_colab_link": true
    },
    "kernelspec": {
      "name": "python3",
      "display_name": "Python 3"
    },
    "language_info": {
      "name": "python"
    }
  },
  "cells": [
    {
      "cell_type": "markdown",
      "metadata": {
        "id": "view-in-github",
        "colab_type": "text"
      },
      "source": [
        "<a href=\"https://colab.research.google.com/github/Roz1t/computer-organization/blob/main/CE305_week_2_q_2_19951_rozit_lopchan.ipynb\" target=\"_parent\"><img src=\"https://colab.research.google.com/assets/colab-badge.svg\" alt=\"Open In Colab\"/></a>"
      ]
    },
    {
      "cell_type": "code",
      "source": [
        "def float_to_binary(decimal):\n",
        "    if decimal == 0:\n",
        "        return '0' * 14\n",
        "    elif decimal == float('inf'):\n",
        "        return '0' * 5 + '1' * 8\n",
        "    elif decimal == float('-inf'):\n",
        "        return '1' * 5 + '1' * 8\n",
        "    elif decimal != decimal:\n",
        "        return '0' * 5 + '1' * 7 + '0'\n",
        "\n",
        "    binary = \"\"\n",
        "    if decimal < 0:\n",
        "        sign_bit = '1'\n",
        "        decimal = abs(decimal)\n",
        "    else:\n",
        "        sign_bit = '0'\n",
        "\n",
        "    int_part = int(decimal)\n",
        "    fractional_part = decimal - int_part\n",
        "\n",
        "    binary += sign_bit\n",
        "\n",
        "    mantissa = \"\"\n",
        "    while fractional_part > 0 and len(mantissa) < 8:\n",
        "        fractional_part *= 2\n",
        "        if fractional_part >= 1:\n",
        "            mantissa += '1'\n",
        "            fractional_part -= 1\n",
        "        else:\n",
        "            mantissa += '0'\n",
        "\n",
        "    if len(mantissa) < 8:\n",
        "      mantissa += \"0\"*(8 - len(mantissa))\n",
        "\n",
        "    exponent = len(bin(int_part)) - 2 + 16\n",
        "    exponent_bits = bin(exponent)[2:].zfill(5)\n",
        "\n",
        "    binary += exponent_bits\n",
        "    binary += mantissa\n",
        "\n",
        "    return binary\n",
        "\n",
        "\n",
        "decimal_number = float(input(\"Enter the floating-point number: \"))\n",
        "binary_representation = float_to_binary(decimal_number)\n",
        "print(\"Binary Representation:\", binary_representation)\n"
      ],
      "metadata": {
        "colab": {
          "base_uri": "https://localhost:8080/"
        },
        "id": "kNID4XzollSY",
        "outputId": "551b5c6d-d552-4e1d-ca64-13a34d65ef9f"
      },
      "execution_count": null,
      "outputs": [
        {
          "output_type": "stream",
          "name": "stdout",
          "text": [
            "Enter the floating-point number: 26.625\n",
            "Binary Representation: 01010110100000\n"
          ]
        }
      ]
    }
  ]
}